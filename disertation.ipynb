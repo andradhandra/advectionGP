{
 "cells": [
  {
   "cell_type": "code",
   "execution_count": 3,
   "metadata": {},
   "outputs": [
    {
     "data": {
      "text/plain": [
       "<class 'netCDF4._netCDF4.Dataset'>\n",
       "root group (NETCDF4 data model, file format HDF5):\n",
       "    History: Original file generated: Wed Dec 25 17:37:22 2019 GMT\n",
       "    Comment: GMAO filename: d5124_m2_jan10.tavg3_3d_asm_Nv.20191210.nc4\n",
       "    Filename: MERRA2_400.tavg3_3d_asm_Nv.20191210.nc4\n",
       "    Conventions: CF-1\n",
       "    Institution: NASA Global Modeling and Assimilation Office\n",
       "    References: http://gmao.gsfc.nasa.gov\n",
       "    Format: NetCDF-4/HDF-5\n",
       "    SpatialCoverage: global\n",
       "    VersionID: 5.12.4\n",
       "    TemporalRange: 1980-01-01 -> 2016-12-31\n",
       "    identifier_product_doi_authority: http://dx.doi.org/\n",
       "    ShortName: M2T3NVASM\n",
       "    GranuleID: MERRA2_400.tavg3_3d_asm_Nv.20191210.nc4\n",
       "    ProductionDateTime: Original file generated: Wed Dec 25 17:37:22 2019 GMT\n",
       "    LongName: MERRA2 tavg3_3d_asm_Nv: 3d,3-Hourly,Time-Averaged,Model-Level,Assimilation,Assimilated Meteorological Fields\n",
       "    Title: MERRA2 tavg3_3d_asm_Nv: 3d,3-Hourly,Time-Averaged,Model-Level,Assimilation,Assimilated Meteorological Fields\n",
       "    SouthernmostLatitude: -90.0\n",
       "    NorthernmostLatitude: 90.0\n",
       "    WesternmostLongitude: -180.0\n",
       "    EasternmostLongitude: 179.375\n",
       "    LatitudeResolution: 0.5\n",
       "    LongitudeResolution: 0.625\n",
       "    DataResolution: 0.5 x 0.625 (72 native layers)\n",
       "    Source: CVS tag: GEOSadas-5_12_4_p22_sp3_M2-OPS\n",
       "    Contact: http://gmao.gsfc.nasa.gov\n",
       "    identifier_product_doi: 10.5067/SUOQESM06LPK\n",
       "    RangeBeginningDate: 2019-12-10\n",
       "    RangeBeginningTime: 00:00:00.000000\n",
       "    RangeEndingDate: 2019-12-10\n",
       "    RangeEndingTime: 23:59:59.000000\n",
       "    dimensions(sizes): lon(576), lat(361), lev(72), time(8)\n",
       "    variables(dimensions): float64 lon(lon), float64 lat(lat), float64 lev(lev), int32 time(time), float32 CLOUD(time, lev, lat, lon), float32 DELP(time, lev, lat, lon), float32 EPV(time, lev, lat, lon), float32 H(time, lev, lat, lon), float32 O3(time, lev, lat, lon), float32 OMEGA(time, lev, lat, lon), float32 PHIS(time, lat, lon), float32 PL(time, lev, lat, lon), float32 PS(time, lat, lon), float32 QI(time, lev, lat, lon), float32 QL(time, lev, lat, lon), float32 QV(time, lev, lat, lon), float32 RH(time, lev, lat, lon), float32 SLP(time, lat, lon), float32 T(time, lev, lat, lon), float32 U(time, lev, lat, lon), float32 V(time, lev, lat, lon)\n",
       "    groups: "
      ]
     },
     "execution_count": 3,
     "metadata": {},
     "output_type": "execute_result"
    }
   ],
   "source": [
    "import netCDF4 as nc4\n",
    "\n",
    "# Get Wind Data\n",
    "\n",
    "url = './data/wind_data/MERRA2_400.tavg3_3d_asm_Nv.20191210.nc4'\n",
    "windData = nc4.Dataset(url)\n",
    "windData"
   ]
  },
  {
   "cell_type": "markdown",
   "metadata": {},
   "source": [
    "### To derive the wind speed and direction, follow this documentation\n",
    "\n",
    "https://disc.gsfc.nasa.gov/information/data-in-action?title=Derive%20Wind%20Speed%20and%20Direction%20With%20MERRA-2%20Wind%20Components\n",
    "\n",
    "To see function for wind direction:\n",
    "https://sgichuki.github.io/Atmo/"
   ]
  },
  {
   "cell_type": "markdown",
   "metadata": {},
   "source": [
    "East Australia coordinate:\n",
    "140.433,-46.758,163.46,-16.348"
   ]
  },
  {
   "cell_type": "code",
   "execution_count": 4,
   "metadata": {},
   "outputs": [
    {
     "name": "stdout",
     "output_type": "stream",
     "text": [
      "<class 'netCDF4._netCDF4.Variable'>\n",
      "int32 time(time)\n",
      "    long_name: time\n",
      "    units: minutes since 2019-12-10 01:30:00\n",
      "    time_increment: 30000\n",
      "    begin_date: 20191210\n",
      "    begin_time: 13000\n",
      "    vmax: 1000000000000000.0\n",
      "    vmin: -1000000000000000.0\n",
      "    valid_range: [-1.e+15  1.e+15]\n",
      "unlimited dimensions: time\n",
      "current shape = (8,)\n",
      "filling on, default _FillValue of -2147483647 used\n",
      "[ 1.  2.  3.  4.  5.  6.  7.  8.  9. 10. 11. 12. 13. 14. 15. 16. 17. 18.\n",
      " 19. 20. 21. 22. 23. 24. 25. 26. 27. 28. 29. 30. 31. 32. 33. 34. 35. 36.\n",
      " 37. 38. 39. 40. 41. 42. 43. 44. 45. 46. 47. 48. 49. 50. 51. 52. 53. 54.\n",
      " 55. 56. 57. 58. 59. 60. 61. 62. 63. 64. 65. 66. 67. 68. 69. 70. 71. 72.]\n",
      "[-9.0000000e+01 -8.9500000e+01 -8.9000000e+01 -8.8500000e+01\n",
      " -8.8000000e+01 -8.7500000e+01 -8.7000000e+01 -8.6500000e+01\n",
      " -8.6000000e+01 -8.5500000e+01 -8.5000000e+01 -8.4500000e+01\n",
      " -8.4000000e+01 -8.3500000e+01 -8.3000000e+01 -8.2500000e+01\n",
      " -8.2000000e+01 -8.1500000e+01 -8.1000000e+01 -8.0500000e+01\n",
      " -8.0000000e+01 -7.9500000e+01 -7.9000000e+01 -7.8500000e+01\n",
      " -7.8000000e+01 -7.7500000e+01 -7.7000000e+01 -7.6500000e+01\n",
      " -7.6000000e+01 -7.5500000e+01 -7.5000000e+01 -7.4500000e+01\n",
      " -7.4000000e+01 -7.3500000e+01 -7.3000000e+01 -7.2500000e+01\n",
      " -7.2000000e+01 -7.1500000e+01 -7.1000000e+01 -7.0500000e+01\n",
      " -7.0000000e+01 -6.9500000e+01 -6.9000000e+01 -6.8500000e+01\n",
      " -6.8000000e+01 -6.7500000e+01 -6.7000000e+01 -6.6500000e+01\n",
      " -6.6000000e+01 -6.5500000e+01 -6.5000000e+01 -6.4500000e+01\n",
      " -6.4000000e+01 -6.3500000e+01 -6.3000000e+01 -6.2500000e+01\n",
      " -6.2000000e+01 -6.1500000e+01 -6.1000000e+01 -6.0500000e+01\n",
      " -6.0000000e+01 -5.9500000e+01 -5.9000000e+01 -5.8500000e+01\n",
      " -5.8000000e+01 -5.7500000e+01 -5.7000000e+01 -5.6500000e+01\n",
      " -5.6000000e+01 -5.5500000e+01 -5.5000000e+01 -5.4500000e+01\n",
      " -5.4000000e+01 -5.3500000e+01 -5.3000000e+01 -5.2500000e+01\n",
      " -5.2000000e+01 -5.1500000e+01 -5.1000000e+01 -5.0500000e+01\n",
      " -5.0000000e+01 -4.9500000e+01 -4.9000000e+01 -4.8500000e+01\n",
      " -4.8000000e+01 -4.7500000e+01 -4.7000000e+01 -4.6500000e+01\n",
      " -4.6000000e+01 -4.5500000e+01 -4.5000000e+01 -4.4500000e+01\n",
      " -4.4000000e+01 -4.3500000e+01 -4.3000000e+01 -4.2500000e+01\n",
      " -4.2000000e+01 -4.1500000e+01 -4.1000000e+01 -4.0500000e+01\n",
      " -4.0000000e+01 -3.9500000e+01 -3.9000000e+01 -3.8500000e+01\n",
      " -3.8000000e+01 -3.7500000e+01 -3.7000000e+01 -3.6500000e+01\n",
      " -3.6000000e+01 -3.5500000e+01 -3.5000000e+01 -3.4500000e+01\n",
      " -3.4000000e+01 -3.3500000e+01 -3.3000000e+01 -3.2500000e+01\n",
      " -3.2000000e+01 -3.1500000e+01 -3.1000000e+01 -3.0500000e+01\n",
      " -3.0000000e+01 -2.9500000e+01 -2.9000000e+01 -2.8500000e+01\n",
      " -2.8000000e+01 -2.7500000e+01 -2.7000000e+01 -2.6500000e+01\n",
      " -2.6000000e+01 -2.5500000e+01 -2.5000000e+01 -2.4500000e+01\n",
      " -2.4000000e+01 -2.3500000e+01 -2.3000000e+01 -2.2500000e+01\n",
      " -2.2000000e+01 -2.1500000e+01 -2.1000000e+01 -2.0500000e+01\n",
      " -2.0000000e+01 -1.9500000e+01 -1.9000000e+01 -1.8500000e+01\n",
      " -1.8000000e+01 -1.7500000e+01 -1.7000000e+01 -1.6500000e+01\n",
      " -1.6000000e+01 -1.5500000e+01 -1.5000000e+01 -1.4500000e+01\n",
      " -1.4000000e+01 -1.3500000e+01 -1.3000000e+01 -1.2500000e+01\n",
      " -1.2000000e+01 -1.1500000e+01 -1.1000000e+01 -1.0500000e+01\n",
      " -1.0000000e+01 -9.5000000e+00 -9.0000000e+00 -8.5000000e+00\n",
      " -8.0000000e+00 -7.5000000e+00 -7.0000000e+00 -6.5000000e+00\n",
      " -6.0000000e+00 -5.5000000e+00 -5.0000000e+00 -4.5000000e+00\n",
      " -4.0000000e+00 -3.5000000e+00 -3.0000000e+00 -2.5000000e+00\n",
      " -2.0000000e+00 -1.5000000e+00 -1.0000000e+00 -5.0000000e-01\n",
      " -1.7975103e-13  5.0000000e-01  1.0000000e+00  1.5000000e+00\n",
      "  2.0000000e+00  2.5000000e+00  3.0000000e+00  3.5000000e+00\n",
      "  4.0000000e+00  4.5000000e+00  5.0000000e+00  5.5000000e+00\n",
      "  6.0000000e+00  6.5000000e+00  7.0000000e+00  7.5000000e+00\n",
      "  8.0000000e+00  8.5000000e+00  9.0000000e+00  9.5000000e+00\n",
      "  1.0000000e+01  1.0500000e+01  1.1000000e+01  1.1500000e+01\n",
      "  1.2000000e+01  1.2500000e+01  1.3000000e+01  1.3500000e+01\n",
      "  1.4000000e+01  1.4500000e+01  1.5000000e+01  1.5500000e+01\n",
      "  1.6000000e+01  1.6500000e+01  1.7000000e+01  1.7500000e+01\n",
      "  1.8000000e+01  1.8500000e+01  1.9000000e+01  1.9500000e+01\n",
      "  2.0000000e+01  2.0500000e+01  2.1000000e+01  2.1500000e+01\n",
      "  2.2000000e+01  2.2500000e+01  2.3000000e+01  2.3500000e+01\n",
      "  2.4000000e+01  2.4500000e+01  2.5000000e+01  2.5500000e+01\n",
      "  2.6000000e+01  2.6500000e+01  2.7000000e+01  2.7500000e+01\n",
      "  2.8000000e+01  2.8500000e+01  2.9000000e+01  2.9500000e+01\n",
      "  3.0000000e+01  3.0500000e+01  3.1000000e+01  3.1500000e+01\n",
      "  3.2000000e+01  3.2500000e+01  3.3000000e+01  3.3500000e+01\n",
      "  3.4000000e+01  3.4500000e+01  3.5000000e+01  3.5500000e+01\n",
      "  3.6000000e+01  3.6500000e+01  3.7000000e+01  3.7500000e+01\n",
      "  3.8000000e+01  3.8500000e+01  3.9000000e+01  3.9500000e+01\n",
      "  4.0000000e+01  4.0500000e+01  4.1000000e+01  4.1500000e+01\n",
      "  4.2000000e+01  4.2500000e+01  4.3000000e+01  4.3500000e+01\n",
      "  4.4000000e+01  4.4500000e+01  4.5000000e+01  4.5500000e+01\n",
      "  4.6000000e+01  4.6500000e+01  4.7000000e+01  4.7500000e+01\n",
      "  4.8000000e+01  4.8500000e+01  4.9000000e+01  4.9500000e+01\n",
      "  5.0000000e+01  5.0500000e+01  5.1000000e+01  5.1500000e+01\n",
      "  5.2000000e+01  5.2500000e+01  5.3000000e+01  5.3500000e+01\n",
      "  5.4000000e+01  5.4500000e+01  5.5000000e+01  5.5500000e+01\n",
      "  5.6000000e+01  5.6500000e+01  5.7000000e+01  5.7500000e+01\n",
      "  5.8000000e+01  5.8500000e+01  5.9000000e+01  5.9500000e+01\n",
      "  6.0000000e+01  6.0500000e+01  6.1000000e+01  6.1500000e+01\n",
      "  6.2000000e+01  6.2500000e+01  6.3000000e+01  6.3500000e+01\n",
      "  6.4000000e+01  6.4500000e+01  6.5000000e+01  6.5500000e+01\n",
      "  6.6000000e+01  6.6500000e+01  6.7000000e+01  6.7500000e+01\n",
      "  6.8000000e+01  6.8500000e+01  6.9000000e+01  6.9500000e+01\n",
      "  7.0000000e+01  7.0500000e+01  7.1000000e+01  7.1500000e+01\n",
      "  7.2000000e+01  7.2500000e+01  7.3000000e+01  7.3500000e+01\n",
      "  7.4000000e+01  7.4500000e+01  7.5000000e+01  7.5500000e+01\n",
      "  7.6000000e+01  7.6500000e+01  7.7000000e+01  7.7500000e+01\n",
      "  7.8000000e+01  7.8500000e+01  7.9000000e+01  7.9500000e+01\n",
      "  8.0000000e+01  8.0500000e+01  8.1000000e+01  8.1500000e+01\n",
      "  8.2000000e+01  8.2500000e+01  8.3000000e+01  8.3500000e+01\n",
      "  8.4000000e+01  8.4500000e+01  8.5000000e+01  8.5500000e+01\n",
      "  8.6000000e+01  8.6500000e+01  8.7000000e+01  8.7500000e+01\n",
      "  8.8000000e+01  8.8500000e+01  8.9000000e+01  8.9500000e+01\n",
      "  9.0000000e+01]\n",
      "[-1.80000000e+02 -1.79375000e+02 -1.78750000e+02 -1.78125000e+02\n",
      " -1.77500000e+02 -1.76875000e+02 -1.76250000e+02 -1.75625000e+02\n",
      " -1.75000000e+02 -1.74375000e+02 -1.73750000e+02 -1.73125000e+02\n",
      " -1.72500000e+02 -1.71875000e+02 -1.71250000e+02 -1.70625000e+02\n",
      " -1.70000000e+02 -1.69375000e+02 -1.68750000e+02 -1.68125000e+02\n",
      " -1.67500000e+02 -1.66875000e+02 -1.66250000e+02 -1.65625000e+02\n",
      " -1.65000000e+02 -1.64375000e+02 -1.63750000e+02 -1.63125000e+02\n",
      " -1.62500000e+02 -1.61875000e+02 -1.61250000e+02 -1.60625000e+02\n",
      " -1.60000000e+02 -1.59375000e+02 -1.58750000e+02 -1.58125000e+02\n",
      " -1.57500000e+02 -1.56875000e+02 -1.56250000e+02 -1.55625000e+02\n",
      " -1.55000000e+02 -1.54375000e+02 -1.53750000e+02 -1.53125000e+02\n",
      " -1.52500000e+02 -1.51875000e+02 -1.51250000e+02 -1.50625000e+02\n",
      " -1.50000000e+02 -1.49375000e+02 -1.48750000e+02 -1.48125000e+02\n",
      " -1.47500000e+02 -1.46875000e+02 -1.46250000e+02 -1.45625000e+02\n",
      " -1.45000000e+02 -1.44375000e+02 -1.43750000e+02 -1.43125000e+02\n",
      " -1.42500000e+02 -1.41875000e+02 -1.41250000e+02 -1.40625000e+02\n",
      " -1.40000000e+02 -1.39375000e+02 -1.38750000e+02 -1.38125000e+02\n",
      " -1.37500000e+02 -1.36875000e+02 -1.36250000e+02 -1.35625000e+02\n",
      " -1.35000000e+02 -1.34375000e+02 -1.33750000e+02 -1.33125000e+02\n",
      " -1.32500000e+02 -1.31875000e+02 -1.31250000e+02 -1.30625000e+02\n",
      " -1.30000000e+02 -1.29375000e+02 -1.28750000e+02 -1.28125000e+02\n",
      " -1.27500000e+02 -1.26875000e+02 -1.26250000e+02 -1.25625000e+02\n",
      " -1.25000000e+02 -1.24375000e+02 -1.23750000e+02 -1.23125000e+02\n",
      " -1.22500000e+02 -1.21875000e+02 -1.21250000e+02 -1.20625000e+02\n",
      " -1.20000000e+02 -1.19375000e+02 -1.18750000e+02 -1.18125000e+02\n",
      " -1.17500000e+02 -1.16875000e+02 -1.16250000e+02 -1.15625000e+02\n",
      " -1.15000000e+02 -1.14375000e+02 -1.13750000e+02 -1.13125000e+02\n",
      " -1.12500000e+02 -1.11875000e+02 -1.11250000e+02 -1.10625000e+02\n",
      " -1.10000000e+02 -1.09375000e+02 -1.08750000e+02 -1.08125000e+02\n",
      " -1.07500000e+02 -1.06875000e+02 -1.06250000e+02 -1.05625000e+02\n",
      " -1.05000000e+02 -1.04375000e+02 -1.03750000e+02 -1.03125000e+02\n",
      " -1.02500000e+02 -1.01875000e+02 -1.01250000e+02 -1.00625000e+02\n",
      " -1.00000000e+02 -9.93750000e+01 -9.87500000e+01 -9.81250000e+01\n",
      " -9.75000000e+01 -9.68750000e+01 -9.62500000e+01 -9.56250000e+01\n",
      " -9.50000000e+01 -9.43750000e+01 -9.37500000e+01 -9.31250000e+01\n",
      " -9.25000000e+01 -9.18750000e+01 -9.12500000e+01 -9.06250000e+01\n",
      " -9.00000000e+01 -8.93750000e+01 -8.87500000e+01 -8.81250000e+01\n",
      " -8.75000000e+01 -8.68750000e+01 -8.62500000e+01 -8.56250000e+01\n",
      " -8.50000000e+01 -8.43750000e+01 -8.37500000e+01 -8.31250000e+01\n",
      " -8.25000000e+01 -8.18750000e+01 -8.12500000e+01 -8.06250000e+01\n",
      " -8.00000000e+01 -7.93750000e+01 -7.87500000e+01 -7.81250000e+01\n",
      " -7.75000000e+01 -7.68750000e+01 -7.62500000e+01 -7.56250000e+01\n",
      " -7.50000000e+01 -7.43750000e+01 -7.37500000e+01 -7.31250000e+01\n",
      " -7.25000000e+01 -7.18750000e+01 -7.12500000e+01 -7.06250000e+01\n",
      " -7.00000000e+01 -6.93750000e+01 -6.87500000e+01 -6.81250000e+01\n",
      " -6.75000000e+01 -6.68750000e+01 -6.62500000e+01 -6.56250000e+01\n",
      " -6.50000000e+01 -6.43750000e+01 -6.37500000e+01 -6.31250000e+01\n",
      " -6.25000000e+01 -6.18750000e+01 -6.12500000e+01 -6.06250000e+01\n",
      " -6.00000000e+01 -5.93750000e+01 -5.87500000e+01 -5.81250000e+01\n",
      " -5.75000000e+01 -5.68750000e+01 -5.62500000e+01 -5.56250000e+01\n",
      " -5.50000000e+01 -5.43750000e+01 -5.37500000e+01 -5.31250000e+01\n",
      " -5.25000000e+01 -5.18750000e+01 -5.12500000e+01 -5.06250000e+01\n",
      " -5.00000000e+01 -4.93750000e+01 -4.87500000e+01 -4.81250000e+01\n",
      " -4.75000000e+01 -4.68750000e+01 -4.62500000e+01 -4.56250000e+01\n",
      " -4.50000000e+01 -4.43750000e+01 -4.37500000e+01 -4.31250000e+01\n",
      " -4.25000000e+01 -4.18750000e+01 -4.12500000e+01 -4.06250000e+01\n",
      " -4.00000000e+01 -3.93750000e+01 -3.87500000e+01 -3.81250000e+01\n",
      " -3.75000000e+01 -3.68750000e+01 -3.62500000e+01 -3.56250000e+01\n",
      " -3.50000000e+01 -3.43750000e+01 -3.37500000e+01 -3.31250000e+01\n",
      " -3.25000000e+01 -3.18750000e+01 -3.12500000e+01 -3.06250000e+01\n",
      " -3.00000000e+01 -2.93750000e+01 -2.87500000e+01 -2.81250000e+01\n",
      " -2.75000000e+01 -2.68750000e+01 -2.62500000e+01 -2.56250000e+01\n",
      " -2.50000000e+01 -2.43750000e+01 -2.37500000e+01 -2.31250000e+01\n",
      " -2.25000000e+01 -2.18750000e+01 -2.12500000e+01 -2.06250000e+01\n",
      " -2.00000000e+01 -1.93750000e+01 -1.87500000e+01 -1.81250000e+01\n",
      " -1.75000000e+01 -1.68750000e+01 -1.62500000e+01 -1.56250000e+01\n",
      " -1.50000000e+01 -1.43750000e+01 -1.37500000e+01 -1.31250000e+01\n",
      " -1.25000000e+01 -1.18750000e+01 -1.12500000e+01 -1.06250000e+01\n",
      " -1.00000000e+01 -9.37500000e+00 -8.75000000e+00 -8.12500000e+00\n",
      " -7.50000000e+00 -6.87500000e+00 -6.25000000e+00 -5.62500000e+00\n",
      " -5.00000000e+00 -4.37500000e+00 -3.75000000e+00 -3.12500000e+00\n",
      " -2.50000000e+00 -1.87500000e+00 -1.25000000e+00 -6.25000000e-01\n",
      " -5.92030439e-13  6.25000000e-01  1.25000000e+00  1.87500000e+00\n",
      "  2.50000000e+00  3.12500000e+00  3.75000000e+00  4.37500000e+00\n",
      "  5.00000000e+00  5.62500000e+00  6.25000000e+00  6.87500000e+00\n",
      "  7.50000000e+00  8.12500000e+00  8.75000000e+00  9.37500000e+00\n",
      "  1.00000000e+01  1.06250000e+01  1.12500000e+01  1.18750000e+01\n",
      "  1.25000000e+01  1.31250000e+01  1.37500000e+01  1.43750000e+01\n",
      "  1.50000000e+01  1.56250000e+01  1.62500000e+01  1.68750000e+01\n",
      "  1.75000000e+01  1.81250000e+01  1.87500000e+01  1.93750000e+01\n",
      "  2.00000000e+01  2.06250000e+01  2.12500000e+01  2.18750000e+01\n",
      "  2.25000000e+01  2.31250000e+01  2.37500000e+01  2.43750000e+01\n",
      "  2.50000000e+01  2.56250000e+01  2.62500000e+01  2.68750000e+01\n",
      "  2.75000000e+01  2.81250000e+01  2.87500000e+01  2.93750000e+01\n",
      "  3.00000000e+01  3.06250000e+01  3.12500000e+01  3.18750000e+01\n",
      "  3.25000000e+01  3.31250000e+01  3.37500000e+01  3.43750000e+01\n",
      "  3.50000000e+01  3.56250000e+01  3.62500000e+01  3.68750000e+01\n",
      "  3.75000000e+01  3.81250000e+01  3.87500000e+01  3.93750000e+01\n",
      "  4.00000000e+01  4.06250000e+01  4.12500000e+01  4.18750000e+01\n",
      "  4.25000000e+01  4.31250000e+01  4.37500000e+01  4.43750000e+01\n",
      "  4.50000000e+01  4.56250000e+01  4.62500000e+01  4.68750000e+01\n",
      "  4.75000000e+01  4.81250000e+01  4.87500000e+01  4.93750000e+01\n",
      "  5.00000000e+01  5.06250000e+01  5.12500000e+01  5.18750000e+01\n",
      "  5.25000000e+01  5.31250000e+01  5.37500000e+01  5.43750000e+01\n",
      "  5.50000000e+01  5.56250000e+01  5.62500000e+01  5.68750000e+01\n",
      "  5.75000000e+01  5.81250000e+01  5.87500000e+01  5.93750000e+01\n",
      "  6.00000000e+01  6.06250000e+01  6.12500000e+01  6.18750000e+01\n",
      "  6.25000000e+01  6.31250000e+01  6.37500000e+01  6.43750000e+01\n",
      "  6.50000000e+01  6.56250000e+01  6.62500000e+01  6.68750000e+01\n",
      "  6.75000000e+01  6.81250000e+01  6.87500000e+01  6.93750000e+01\n",
      "  7.00000000e+01  7.06250000e+01  7.12500000e+01  7.18750000e+01\n",
      "  7.25000000e+01  7.31250000e+01  7.37500000e+01  7.43750000e+01\n",
      "  7.50000000e+01  7.56250000e+01  7.62500000e+01  7.68750000e+01\n",
      "  7.75000000e+01  7.81250000e+01  7.87500000e+01  7.93750000e+01\n",
      "  8.00000000e+01  8.06250000e+01  8.12500000e+01  8.18750000e+01\n",
      "  8.25000000e+01  8.31250000e+01  8.37500000e+01  8.43750000e+01\n",
      "  8.50000000e+01  8.56250000e+01  8.62500000e+01  8.68750000e+01\n",
      "  8.75000000e+01  8.81250000e+01  8.87500000e+01  8.93750000e+01\n",
      "  9.00000000e+01  9.06250000e+01  9.12500000e+01  9.18750000e+01\n",
      "  9.25000000e+01  9.31250000e+01  9.37500000e+01  9.43750000e+01\n",
      "  9.50000000e+01  9.56250000e+01  9.62500000e+01  9.68750000e+01\n",
      "  9.75000000e+01  9.81250000e+01  9.87500000e+01  9.93750000e+01\n",
      "  1.00000000e+02  1.00625000e+02  1.01250000e+02  1.01875000e+02\n",
      "  1.02500000e+02  1.03125000e+02  1.03750000e+02  1.04375000e+02\n",
      "  1.05000000e+02  1.05625000e+02  1.06250000e+02  1.06875000e+02\n",
      "  1.07500000e+02  1.08125000e+02  1.08750000e+02  1.09375000e+02\n",
      "  1.10000000e+02  1.10625000e+02  1.11250000e+02  1.11875000e+02\n",
      "  1.12500000e+02  1.13125000e+02  1.13750000e+02  1.14375000e+02\n",
      "  1.15000000e+02  1.15625000e+02  1.16250000e+02  1.16875000e+02\n",
      "  1.17500000e+02  1.18125000e+02  1.18750000e+02  1.19375000e+02\n",
      "  1.20000000e+02  1.20625000e+02  1.21250000e+02  1.21875000e+02\n",
      "  1.22500000e+02  1.23125000e+02  1.23750000e+02  1.24375000e+02\n",
      "  1.25000000e+02  1.25625000e+02  1.26250000e+02  1.26875000e+02\n",
      "  1.27500000e+02  1.28125000e+02  1.28750000e+02  1.29375000e+02\n",
      "  1.30000000e+02  1.30625000e+02  1.31250000e+02  1.31875000e+02\n",
      "  1.32500000e+02  1.33125000e+02  1.33750000e+02  1.34375000e+02\n",
      "  1.35000000e+02  1.35625000e+02  1.36250000e+02  1.36875000e+02\n",
      "  1.37500000e+02  1.38125000e+02  1.38750000e+02  1.39375000e+02\n",
      "  1.40000000e+02  1.40625000e+02  1.41250000e+02  1.41875000e+02\n",
      "  1.42500000e+02  1.43125000e+02  1.43750000e+02  1.44375000e+02\n",
      "  1.45000000e+02  1.45625000e+02  1.46250000e+02  1.46875000e+02\n",
      "  1.47500000e+02  1.48125000e+02  1.48750000e+02  1.49375000e+02\n",
      "  1.50000000e+02  1.50625000e+02  1.51250000e+02  1.51875000e+02\n",
      "  1.52500000e+02  1.53125000e+02  1.53750000e+02  1.54375000e+02\n",
      "  1.55000000e+02  1.55625000e+02  1.56250000e+02  1.56875000e+02\n",
      "  1.57500000e+02  1.58125000e+02  1.58750000e+02  1.59375000e+02\n",
      "  1.60000000e+02  1.60625000e+02  1.61250000e+02  1.61875000e+02\n",
      "  1.62500000e+02  1.63125000e+02  1.63750000e+02  1.64375000e+02\n",
      "  1.65000000e+02  1.65625000e+02  1.66250000e+02  1.66875000e+02\n",
      "  1.67500000e+02  1.68125000e+02  1.68750000e+02  1.69375000e+02\n",
      "  1.70000000e+02  1.70625000e+02  1.71250000e+02  1.71875000e+02\n",
      "  1.72500000e+02  1.73125000e+02  1.73750000e+02  1.74375000e+02\n",
      "  1.75000000e+02  1.75625000e+02  1.76250000e+02  1.76875000e+02\n",
      "  1.77500000e+02  1.78125000e+02  1.78750000e+02  1.79375000e+02]\n"
     ]
    },
    {
     "data": {
      "text/plain": [
       "((361,), (576,), (8,), (8, 72, 361, 576), (8, 72, 361, 576))"
      ]
     },
     "execution_count": 4,
     "metadata": {},
     "output_type": "execute_result"
    }
   ],
   "source": [
    "#Get Wind Data\n",
    "windLat = windData.variables['lat'][:]\n",
    "windLon = windData.variables['lon'][:]\n",
    "windLev = windData.variables['lev'][:]\n",
    "windTime = windData.variables['time']\n",
    "windU = windData.variables['U'][:] # eastward wind\n",
    "windV = windData.variables['V'][:] # northward wind\n",
    "\n",
    "print(windTime)\n",
    "print(windLev)\n",
    "print(windLat)\n",
    "print(windLon)\n",
    "\n",
    "windLat.shape, windLon.shape, windTime.shape, windU.shape, windV.shape"
   ]
  },
  {
   "cell_type": "markdown",
   "metadata": {},
   "source": [
    "From the wind data, we will use area of:\n",
    "140.624, -46, 157.5, -16\n",
    "\n",
    "quote from Attiya and Jones, 2022:\n",
    "\"In Richmond the daily maximum average hourly concentration of particulate matter (PM10) was 848.9 μg/m3 at 07:00 UTC on 26 November 2019 and 785 μg/m3 at 07:00 UTC on 12 December 2019. On 10 December 2019, the highest PM10 recorded in the Sydney region was 961.5 μg/m3 in St Marys at 01:00 UTC, while the highest PM2.5 concentration was 714.6 μg/m3 in Oakdale in southwest Sydney at 18:00 UTC.\"\n",
    "\n",
    "\"The 532 nm total attenuated backscatter signal in Figure 7 detected\n",
    "the existence of an aerosol layer at an elevation of 14 km lying above cirrus stratocumulus\"\n",
    "\n"
   ]
  },
  {
   "cell_type": "code",
   "execution_count": 5,
   "metadata": {},
   "outputs": [
    {
     "data": {
      "text/plain": [
       "(140.624, -46, 157.5, -16)"
      ]
     },
     "execution_count": 5,
     "metadata": {},
     "output_type": "execute_result"
    }
   ],
   "source": [
    "windLevIndex = 0\n",
    "targetCoordinates = 140.624, -46, 157.5, -16\n",
    "targetCoordinates"
   ]
  },
  {
   "cell_type": "code",
   "execution_count": 6,
   "metadata": {},
   "outputs": [
    {
     "name": "stdout",
     "output_type": "stream",
     "text": [
      "74.46919\n"
     ]
    },
    {
     "data": {
      "image/png": "[encoded data removed]",
      "text/plain": [
       "<Figure size 640x480 with 1 Axes>"
      ]
     },
     "metadata": {},
     "output_type": "display_data"
    }
   ],
   "source": [
    "import numpy as np\n",
    "import matplotlib.pyplot as plt\n",
    "\n",
    "# Use coordinate around Sydney\n",
    "sydneyLat = -33.5\n",
    "sydneyLon = 151.25\n",
    "\n",
    "latIndex = np.where(windLat == sydneyLat)[0][0]\n",
    "lonIndex = np.where(windLon == sydneyLon)[0][0]\n",
    "\n",
    "# get wind value for all lev\n",
    "for time in range(len(windU)):\n",
    "    hourWindU = [windU[time, lev, latIndex, lonIndex] for lev in range(len(windLev))]\n",
    "    hourWindV = [windV[time, lev, latIndex, lonIndex] for lev in range(len(windLev))]\n",
    "    windVec = np.sqrt(np.square(hourWindU) + np.square(hourWindV))\n",
    "    if (time == 0): print(max(windVec))\n",
    "    plt.plot(windVec)\n",
    "    \n",
    "# Plot the data of wind to see the diffrence between lev\n",
    "plt.show()\n",
    "\n"
   ]
  },
  {
   "cell_type": "code",
   "execution_count": 7,
   "metadata": {},
   "outputs": [],
   "source": [
    "# WindTimeConvert = nc4.num2date(windTime, windTime.units)\n",
    "# WindTimeConvert"
   ]
  },
  {
   "cell_type": "code",
   "execution_count": 8,
   "metadata": {},
   "outputs": [
    {
     "data": {
      "text/plain": [
       "<class 'netCDF4._netCDF4.Dataset'>\n",
       "root group (NETCDF4 data model, file format HDF5):\n",
       "    History: Original file generated: Wed Dec 25 16:50:51 2019 GMT\n",
       "    Comment: GMAO filename: d5124_m2_jan10.inst3_2d_gas_Nx.20191210.nc4\n",
       "    Filename: MERRA2_400.inst3_2d_gas_Nx.20191210.nc4\n",
       "    Conventions: CF-1\n",
       "    Institution: NASA Global Modeling and Assimilation Office\n",
       "    References: http://gmao.gsfc.nasa.gov\n",
       "    Format: NetCDF-4/HDF-5\n",
       "    SpatialCoverage: global\n",
       "    VersionID: 5.12.4\n",
       "    TemporalRange: 1980-01-01 -> 2016-12-31\n",
       "    identifier_product_doi_authority: http://dx.doi.org/\n",
       "    ShortName: M2I3NXGAS\n",
       "    GranuleID: MERRA2_400.inst3_2d_gas_Nx.20191210.nc4\n",
       "    ProductionDateTime: Original file generated: Wed Dec 25 16:50:51 2019 GMT\n",
       "    LongName: MERRA2 inst3_2d_gas_Nx: 2d,3-Hourly,Instantaneous,Single-Level,Assimilation,Aerosol Optical Depth Analysis\n",
       "    Title: MERRA2 inst3_2d_gas_Nx: 2d,3-Hourly,Instantaneous,Single-Level,Assimilation,Aerosol Optical Depth Analysis\n",
       "    SouthernmostLatitude: -90.0\n",
       "    NorthernmostLatitude: 90.0\n",
       "    WesternmostLongitude: -180.0\n",
       "    EasternmostLongitude: 179.375\n",
       "    LatitudeResolution: 0.5\n",
       "    LongitudeResolution: 0.625\n",
       "    DataResolution: 0.5 x 0.625\n",
       "    Source: CVS tag: GEOSadas-5_12_4_p22_sp3_M2-OPS\n",
       "    Contact: http://gmao.gsfc.nasa.gov\n",
       "    identifier_product_doi: 10.5067/HNGA0EWW0R09\n",
       "    RangeBeginningDate: 2019-12-10\n",
       "    RangeBeginningTime: 00:00:00.000000\n",
       "    RangeEndingDate: 2019-12-10\n",
       "    RangeEndingTime: 21:00:00.000000\n",
       "    dimensions(sizes): lon(576), lat(361), time(8)\n",
       "    variables(dimensions): float64 lon(lon), float64 lat(lat), int32 time(time), float32 AODANA(time, lat, lon), float32 AODINC(time, lat, lon)\n",
       "    groups: "
      ]
     },
     "execution_count": 8,
     "metadata": {},
     "output_type": "execute_result"
    }
   ],
   "source": [
    "urlAod = './data//aod_data/MERRA2_400.inst3_2d_gas_Nx.20191210.nc4'\n",
    "aodData = nc4.Dataset(urlAod)\n",
    "aodData"
   ]
  },
  {
   "cell_type": "code",
   "execution_count": 9,
   "metadata": {},
   "outputs": [
    {
     "data": {
      "text/plain": [
       "((8,), (361,), (576,), (8, 361, 576))"
      ]
     },
     "execution_count": 9,
     "metadata": {},
     "output_type": "execute_result"
    }
   ],
   "source": [
    "aodTime = aodData.variables['time']\n",
    "aodLon = aodData.variables['lon'][:]\n",
    "aodLat = aodData.variables['lat'][:]\n",
    "\n",
    "# Getting AOD data\n",
    "aod = aodData.variables['AODANA'][:]\n",
    "\n",
    "aodTime.shape, aodLat.shape, aodLon.shape, aod.shape\n"
   ]
  },
  {
   "cell_type": "code",
   "execution_count": 10,
   "metadata": {},
   "outputs": [
    {
     "data": {
      "text/plain": [
       "(2832, 2)"
      ]
     },
     "execution_count": 10,
     "metadata": {},
     "output_type": "execute_result"
    }
   ],
   "source": [
    "# # Create wind pairs coordinate\n",
    "# windPairs = np.array(np.meshgrid(windLat, windLon)).T.reshape(-1, 2)\n",
    "\n",
    "# # Create aod coordinate pairs\n",
    "# aodPairs = np.array(np.meshgrid(aodLat, aodLon)).T.reshape(-1, 2)\n",
    "\n",
    "\n",
    "# print(f\"Wind coordinate pairs: start = {windPairs[0]}; end = {windPairs[-1]}\")\n",
    "# print(f\"Aod coordinate pairs: start = {aodPairs[0]}; end = {aodPairs[-1]}\")\n",
    "\n",
    "# # To check the coordinates are the same\n",
    "# print(f\"Check if coordinates of wind and AOD is the same: {(windPairs == aodPairs).all()}\")\n",
    "\n",
    "# # Since the same, we can save this coordinate pairs as the world pairs\n",
    "# worldPairs = windPairs\n",
    "\n",
    "# find target coordinate in aodLat and aodLon\n",
    "targetLatIndex = np.where((aodLat > targetCoordinates[1]) & (aodLat < targetCoordinates[3]))[0]\n",
    "targetLat = np.array([windLat[i] for i in targetLatIndex])\n",
    "\n",
    "targetLonIndex = np.where((aodLon > targetCoordinates[1]) & (aodLon < targetCoordinates[3]))[0]\n",
    "targetLon = np.array([windLon[i] for i in targetLonIndex])\n",
    "\n",
    "targetPairsIndex = np.array(np.meshgrid(targetLatIndex, targetLonIndex)).T.reshape(-1, 2)\n",
    "targetCoordinatPairs = np.array([(windLat[coordinateIndex[0]], windLon[coordinateIndex[1]]) for coordinateIndex in targetPairsIndex])\n",
    "\n",
    "targetCoordinatPairs.shape"
   ]
  },
  {
   "cell_type": "markdown",
   "metadata": {},
   "source": [
    "## Referance about how to count wind value from windU and windV\n",
    "\n",
    "This the math referance on how to calculate wind speed and direction:\n",
    "\n",
    "http://colaweb.gmu.edu/dev/clim301/lectures/wind/wind-uv#:~:text=ws%20%3D%20sqrt(u2%2Bv2)&text=This%20will%20require%20the%20inverse,arctan(v%2Fu)."
   ]
  },
  {
   "cell_type": "code",
   "execution_count": 50,
   "metadata": {},
   "outputs": [
    {
     "data": {
      "text/plain": [
       "array([(np.float32(42.633106), np.float32(147.99362)),\n",
       "       (np.float32(41.56997), np.float32(147.45714)),\n",
       "       (np.float32(40.550938), np.float32(147.04811)), ...,\n",
       "       (np.float32(36.8476), np.float32(166.25925)),\n",
       "       (np.float32(36.53245), np.float32(166.21722)),\n",
       "       (np.float32(36.26547), np.float32(166.0724))], dtype=object)"
      ]
     },
     "execution_count": 50,
     "metadata": {},
     "output_type": "execute_result"
    }
   ],
   "source": [
    "# Get wind value across time at surface level for a day\n",
    "\n",
    "windVal = np.empty((len(windU), targetCoordinatPairs.shape[0]), dtype=object)\n",
    "for time in range(len(windU)):\n",
    "    windUTarget = [windU[time, 0, targetIndex[0], targetIndex[1]] for targetIndex in targetPairsIndex]\n",
    "    windVTarget = [windV[time, 0, targetIndex[0], targetIndex[1]] for targetIndex in targetPairsIndex]\n",
    "    \n",
    "    # Get wind direction in degree\n",
    "    windDirection = np.arctan2(windVTarget, windUTarget) * 180 / np.pi\n",
    "    \n",
    "    # create tuple consist of wind speed and direction pair\n",
    "    windSpeedDirection = list(zip(np.sqrt(np.square(windUTarget) + np.square(windVTarget)), windDirection))\n",
    "    \n",
    "    windVal[time] = windSpeedDirection\n",
    "\n",
    "windVal[0]"
   ]
  },
  {
   "cell_type": "code",
   "execution_count": 19,
   "metadata": {},
   "outputs": [
    {
     "data": {
      "text/plain": [
       "array([[0.10476532, 0.1080557 , 0.12594965, ..., 0.05111147, 0.05540025,\n",
       "        0.05540854],\n",
       "       [0.08335422, 0.08877587, 0.0942583 , ..., 0.05506739, 0.05486738,\n",
       "        0.05264045],\n",
       "       [0.08296632, 0.08051354, 0.08360522, ..., 0.05290909, 0.05112861,\n",
       "        0.04741638],\n",
       "       ...,\n",
       "       [0.12540129, 0.14215419, 0.15207994, ..., 0.05947108, 0.05618454,\n",
       "        0.06391499],\n",
       "       [0.16921468, 0.16657925, 0.16636209, ..., 0.05006051, 0.05299816,\n",
       "        0.05978748],\n",
       "       [0.12586853, 0.13855568, 0.15556797, ..., 0.05039557, 0.05301676,\n",
       "        0.05401278]])"
      ]
     },
     "execution_count": 19,
     "metadata": {},
     "output_type": "execute_result"
    }
   ],
   "source": [
    "# Get aod value across time for the first day\n",
    "\n",
    "aodVal = np.empty((8, 2832))\n",
    "for time in range(len(aodTime)):\n",
    "    aodVal[time] = [aod[time, targetIndex[0], targetIndex[1]] for targetIndex in targetPairsIndex]\n",
    "    \n",
    "aodVal"
   ]
  },
  {
   "cell_type": "code",
   "execution_count": 25,
   "metadata": {},
   "outputs": [
    {
     "data": {
      "text/plain": [
       "(2832, 2)"
      ]
     },
     "execution_count": 25,
     "metadata": {},
     "output_type": "execute_result"
    }
   ],
   "source": [
    "# Change lat and lon coordinate to UK coordinate system\n",
    "\n",
    "from pyproj import CRS, Transformer\n",
    "\n",
    "# lat lon coordinate system code is 4326 (data format: lat, lon)\n",
    "crs_4326 = CRS.from_epsg(4326)\n",
    "\n",
    "# UK coordinate system code is 26917 (data format: easting, northing)\n",
    "crs_26917 = CRS.from_epsg(26917)\n",
    "\n",
    "transformer = Transformer.from_crs(crs_4326, crs_26917)\n",
    "\n",
    "transformedPairs = np.array([transformer.transform(coordinate[0], coordinate[1]) for coordinate in targetCoordinatPairs])\n",
    "\n",
    "transformedPairs.shape"
   ]
  },
  {
   "cell_type": "code",
   "execution_count": 26,
   "metadata": {},
   "outputs": [],
   "source": [
    "# Import advectionGP module\n",
    "\n",
    "from advectionGP.models.mesh_adr2d_model import AdjointAdvectionDiffusionReaction2DModel as Model #Model module builds basic parts of the advection diffusion PDE problem, combines other classes into full model\n",
    "from advectionGP.models.mfmodels import MeshFreeAdjointAdvectionDiffusionModel as MFModel\n",
    "from advectionGP.sensors import FixedSensorModel #Builds sensor arrays to generate data for foward model or to generate observations for comparison\n",
    "from advectionGP.kernels import EQ #Generates exponentiated quadratic kernel approximation\n",
    "from advectionGP.wind import WindSimple1d #Wind model"
   ]
  },
  {
   "cell_type": "code",
   "execution_count": 27,
   "metadata": {},
   "outputs": [],
   "source": [
    "# Establsih parameters\n",
    "\n",
    "k_0 = 0.01 #Diffusion coefficient\n",
    "noiseSD = 0.05 #Observation noise\n",
    "N_feat=300 # number of features used to approximate ground truth GP\n",
    "boundary = ([0,0,0],[10,10,10])# corners of the grid - in units of space\n",
    "kForward = EQ(2, 2.0) # generate EQ kernel arguments are lengthscale and variance\n",
    "res = [300,50,50] # grid size for time, x and y\n",
    "\n",
    "N_feat = 1000 #Number of features used to infer the source\n",
    "kInverse = EQ(2, 2.0) # Initiate kernel for inverse problem\n",
    "# mInfer = Model(resolution=res,boundary=boundary,N_feat=N_feat,noiseSD=noiseSD,kernel=kInverse,sensormodel=sensors,windmodel=windmodel,k_0=k_0,R=0) #Initiate new model for inference\n",
    "# mInfer.computeModelRegressors() # Compute regressor matrix\n",
    "# meanZ, covZ = mInfer.computeZDistribution(yTrain) # Infers z vector mean and covariance using regressor matrix\n",
    "# sourceInfer = mInfer.computeSourceFromPhi(meanZ) # Generates estimated source using mean of the inferred distribution\n",
    "# concInfer=mInfer.computeResponse(sourceInfer) # Generates estimated concentration from inferred source"
   ]
  }
 ],
 "metadata": {
  "kernelspec": {
   "display_name": "base",
   "language": "python",
   "name": "python3"
  },
  "language_info": {
   "codemirror_mode": {
    "name": "ipython",
    "version": 3
   },
   "file_extension": ".py",
   "mimetype": "text/x-python",
   "name": "python",
   "nbconvert_exporter": "python",
   "pygments_lexer": "ipython3",
   "version": "3.12.4"
  }
 },
 "nbformat": 4,
 "nbformat_minor": 2
}
